{
 "cells": [
  {
   "cell_type": "code",
   "metadata": {
    "ExecuteTime": {
     "end_time": "2025-04-29T04:52:34.116772Z",
     "start_time": "2025-04-29T04:52:28.849191Z"
    }
   },
   "source": [
    "import os\n",
    "import torch\n",
    "import torch.nn as nn\n",
    "import torch.optim as optim\n",
    "import random\n",
    "import numpy as np\n",
    "import spacy\n",
    "import datasets\n",
    "import torchtext\n",
    "import tqdm\n",
    "import evaluate"
   ],
   "outputs": [],
   "execution_count": 1
  },
  {
   "cell_type": "code",
   "metadata": {
    "ExecuteTime": {
     "end_time": "2025-04-29T04:52:34.148241Z",
     "start_time": "2025-04-29T04:52:34.126529Z"
    }
   },
   "source": [
    "seed = 1234\n",
    "\n",
    "random.seed(seed)\n",
    "np.random.seed(seed)\n",
    "torch.manual_seed(seed)\n",
    "torch.cuda.manual_seed(seed)\n",
    "torch.backends.cudnn.deterministic = True"
   ],
   "outputs": [],
   "execution_count": 2
  },
  {
   "cell_type": "markdown",
   "metadata": {},
   "source": [
    "# 数据集 Dataset"
   ]
  },
  {
   "cell_type": "markdown",
   "metadata": {},
   "source": [
    "## 1、添加一个Markdown单元格，在其中解释下方单元格的两行代码。\n",
    "设置 os.environ['HF_ENDPOINT'] = \\'https://hf-mirror.com' ，这样做具体改变了什么？\n",
    "为什么要设置HF_ENDPOINT=\\'https://hf-mirror.com'而非直接使用官方源？\n",
    "dataset = datasets.load_dataset(\"bentrevett/multi30k\") 这行代码具体完成了什么操作？"
   ]
  },
  {
   "cell_type": "code",
   "metadata": {
    "ExecuteTime": {
     "end_time": "2025-04-29T04:52:40.495768Z",
     "start_time": "2025-04-29T04:52:38.351369Z"
    }
   },
   "source": [
    "os.environ['HF_ENDPOINT'] = 'https://hf-mirror.com'\n",
    "dataset = datasets.load_dataset(\"bentrevett/multi30k\")"
   ],
   "outputs": [
    {
     "name": "stderr",
     "output_type": "stream",
     "text": [
      "Using the latest cached version of the dataset since bentrevett/multi30k couldn't be found on the Hugging Face Hub\n",
      "Found the latest cached dataset configuration 'default' at C:\\Users\\86134\\.cache\\huggingface\\datasets\\bentrevett___multi30k\\default\\0.0.0\\4589883f3d09d4ef6361784e03f0ead219836469 (last modified on Tue Apr 29 12:17:27 2025).\n"
     ]
    }
   ],
   "execution_count": 3
  },
  {
   "metadata": {},
   "cell_type": "markdown",
   "source": [
    "### 对代码的解释\n",
    "\n",
    "#### 1. 设置 `os.environ['HF_ENDPOINT'] = 'https://hf-mirror.com'`\n",
    "- **具体改变**：  \n",
    "  这行代码通过修改环境变量 `HF_ENDPOINT`，将 Hugging Face 的默认资源下载地址（`https://huggingface.co`）替换为镜像源 `https://hf-mirror.com`。所有后续通过 Hugging Face 库（如 `datasets`、`transformers`）发起的请求（如下载模型、数据集等）都会指向该镜像站点。\n",
    "\n",
    "- **为何使用镜像而非官方源**：  \n",
    "  1. **网络稳定性**：某些地区（如中国大陆）可能因网络限制无法稳定访问 Hugging Face 官方源，使用镜像可解决连接问题。  \n",
    "  2. **下载速度**：镜像服务器通常部署在本地或优化网络路径，下载速度更快。  \n",
    "  3. **合规性**：部分场景需通过合规镜像访问开源资源。\n",
    "\n",
    "---\n",
    "\n",
    "#### 2. `dataset = datasets.load_dataset(\"bentrevett/multi30k\")`\n",
    "- **具体操作**：  \n",
    "  这行代码使用 Hugging Face 的 `datasets` 库从 Hub 加载名为 `multi30k` 的公开数据集（由用户 `bentrevett` 上传）。该数据集包含约 30,000 个英语-德语句对及对应图片描述，常用于多模态翻译任务。  \n",
    "  - 执行时会自动完成以下操作：  \n",
    "    1. 从镜像站下载数据集文件（若本地缓存不存在）。  \n",
    "    2. 解析数据格式（如 CSV/JSON），返回结构化的 `Dataset` 或 `DatasetDict` 对象。  \n",
    "    3. 支持直接用于训练或评估（如 `dataset[\"train\"]` 访问训练集）。\n",
    "\n"
   ]
  },
  {
   "cell_type": "markdown",
   "metadata": {},
   "source": [
    "## 2、运行下方的单元格。\n",
    "你会看到数据集对象（一个DatasetDict）包含训练、验证和测试集，每个集合中的样本数量，以及每个集合中的特征（“en”和“de”）。\n"
   ]
  },
  {
   "cell_type": "code",
   "metadata": {
    "ExecuteTime": {
     "end_time": "2025-04-29T04:53:00.181013Z",
     "start_time": "2025-04-29T04:53:00.164159Z"
    }
   },
   "source": "dataset\n",
   "outputs": [
    {
     "data": {
      "text/plain": [
       "DatasetDict({\n",
       "    train: Dataset({\n",
       "        features: ['en', 'de'],\n",
       "        num_rows: 29000\n",
       "    })\n",
       "    validation: Dataset({\n",
       "        features: ['en', 'de'],\n",
       "        num_rows: 1014\n",
       "    })\n",
       "    test: Dataset({\n",
       "        features: ['en', 'de'],\n",
       "        num_rows: 1000\n",
       "    })\n",
       "})"
      ]
     },
     "execution_count": 4,
     "metadata": {},
     "output_type": "execute_result"
    }
   ],
   "execution_count": 4
  },
  {
   "cell_type": "code",
   "metadata": {
    "ExecuteTime": {
     "end_time": "2025-04-29T04:53:14.286535Z",
     "start_time": "2025-04-29T04:53:14.273349Z"
    }
   },
   "source": [
    "train_data, valid_data, test_data = (\n",
    "    dataset[\"train\"],\n",
    "    dataset[\"validation\"],\n",
    "    dataset[\"test\"],\n",
    ")"
   ],
   "outputs": [],
   "execution_count": 6
  },
  {
   "cell_type": "markdown",
   "metadata": {},
   "source": [
    "## 3、运行下方的单元格。\n",
    "我们可以索引每个数据集来查看单个示例。每个例子都有两个特征：“en”和“de”，是对应的英语和德语。\n"
   ]
  },
  {
   "cell_type": "code",
   "metadata": {
    "ExecuteTime": {
     "end_time": "2025-04-29T04:53:30.184474Z",
     "start_time": "2025-04-29T04:53:30.172474Z"
    }
   },
   "source": [
    "train_data[0]"
   ],
   "outputs": [
    {
     "data": {
      "text/plain": [
       "{'en': 'Two young, White males are outside near many bushes.',\n",
       " 'de': 'Zwei junge weiße Männer sind im Freien in der Nähe vieler Büsche.'}"
      ]
     },
     "execution_count": 7,
     "metadata": {},
     "output_type": "execute_result"
    }
   ],
   "execution_count": 7
  },
  {
   "cell_type": "markdown",
   "metadata": {},
   "source": [
    "接下来我们进行分词。英语/德语的分词较中文要直接，比如句子\"good morning!会被分词为[\"good\", \"morning\", \"!\"]序列。"
   ]
  },
  {
   "cell_type": "markdown",
   "metadata": {},
   "source": [
    "下方的代码要成功安装en_core_web_sm和de_core_news_sm后才不会报错。"
   ]
  },
  {
   "cell_type": "markdown",
   "metadata": {},
   "source": [
    "# 分词器 Tokenizers"
   ]
  },
  {
   "cell_type": "code",
   "metadata": {
    "ExecuteTime": {
     "end_time": "2025-04-29T04:54:39.462974Z",
     "start_time": "2025-04-29T04:54:38.654042Z"
    }
   },
   "source": [
    "en_nlp = spacy.load(\"en_core_web_sm\")\n",
    "de_nlp = spacy.load(\"de_core_news_sm\")"
   ],
   "outputs": [],
   "execution_count": 9
  },
  {
   "cell_type": "markdown",
   "metadata": {},
   "source": [
    "## 4、运行下方的单元格。\n",
    "我们可以使用.tokenizer方法调用每个spaCy模型的分词器，该方法接受字符串并返回Token对象序列。我们可以使用text属性从Token对象中获取字符串。\n"
   ]
  },
  {
   "cell_type": "code",
   "metadata": {
    "ExecuteTime": {
     "end_time": "2025-04-29T04:54:40.982386Z",
     "start_time": "2025-04-29T04:54:40.963024Z"
    }
   },
   "source": [
    "string = \"What a lovely day it is today!\"\n",
    "\n",
    "[token.text for token in en_nlp.tokenizer(string)]"
   ],
   "outputs": [
    {
     "data": {
      "text/plain": [
       "['What', 'a', 'lovely', 'day', 'it', 'is', 'today', '!']"
      ]
     },
     "execution_count": 10,
     "metadata": {},
     "output_type": "execute_result"
    }
   ],
   "execution_count": 10
  },
  {
   "cell_type": "markdown",
   "metadata": {},
   "source": [
    "## 5、添加一个Markdown单元格，在其中解释下方单元格的函数的作用。\n"
   ]
  },
  {
   "cell_type": "code",
   "metadata": {
    "ExecuteTime": {
     "end_time": "2025-04-29T04:54:43.745852Z",
     "start_time": "2025-04-29T04:54:43.737232Z"
    }
   },
   "source": [
    "def tokenize_example(example, en_nlp, de_nlp, max_length, lower, sos_token, eos_token):\n",
    "    en_tokens = [token.text for token in en_nlp.tokenizer(example[\"en\"])][:max_length]\n",
    "    de_tokens = [token.text for token in de_nlp.tokenizer(example[\"de\"])][:max_length]\n",
    "    if lower:\n",
    "        en_tokens = [token.lower() for token in en_tokens]\n",
    "        de_tokens = [token.lower() for token in de_tokens]\n",
    "    en_tokens = [sos_token] + en_tokens + [eos_token]\n",
    "    de_tokens = [sos_token] + de_tokens + [eos_token]\n",
    "    return {\"en_tokens\": en_tokens, \"de_tokens\": de_tokens}"
   ],
   "outputs": [],
   "execution_count": 11
  },
  {
   "metadata": {},
   "cell_type": "markdown",
   "source": [
    "## 函数 `tokenize_example` 的作用解析\n",
    "\n",
    "### 函数功能概述\n",
    "该函数用于对 **双语平行语料**（英语-德语）进行分词和预处理，生成适合序列到序列（Seq2Seq）模型（如机器翻译模型）训练的格式化 token 序列。其核心操作可分为以下步骤：\n",
    "\n",
    "---\n",
    "\n",
    "### 分步详解\n",
    "\n",
    "#### 1. **输入参数说明**\n",
    "| 参数         | 类型      | 作用                                                                 |\n",
    "|--------------|-----------|--------------------------------------------------------------------|\n",
    "| `example`    | dict      | 包含原始文本的字典，键为 `\"en\"`（英语）和 `\"de\"`（德语）               |\n",
    "| `en_nlp`     | spaCy对象 | 英语分词器，用于切分英语句子（如 `spacy.load(\"en_core_web_sm\")`）     |\n",
    "| `de_nlp`     | spaCy对象 | 德语分词器，用于切分德语句子（如 `spacy.load(\"de_core_news_sm\")`）    |\n",
    "| `max_length` | int       | 限制分词后的最大长度（防止过长序列影响模型训练）                        |\n",
    "| `lower`      | bool      | 是否将 token 转换为小写（统一文本大小写）                              |\n",
    "| `sos_token`  | str       | 序列起始标记（如 `<sos>`），标识句子开始                                |\n",
    "| `eos_token`  | str       | 序列结束标记（如 `<eos>`），标识句子结束                                |\n",
    "\n",
    "#### 2. **处理流程**\n",
    "1. **分词与截断**  \n",
    "   - 使用 spaCy 分词器对英语和德语句子进行分词，生成单词列表  \n",
    "   - 通过 `[:max_length]` 截断超过最大长度的部分  \n",
    "   ```python\n",
    "   en_tokens = [token.text for token in en_nlp.tokenizer(example[\"en\"])][:max_length]\n",
    "   de_tokens = [token.text for token in de_nlp.tokenizer(example[\"de\"])][:max_length]"
   ]
  },
  {
   "cell_type": "markdown",
   "metadata": {},
   "source": [
    "## 6、添加一个Markdown单元格，在其中解释下方单元格出现的\\<sos>和\\<eos>的含义，以及map函数的作用。\n"
   ]
  },
  {
   "cell_type": "code",
   "metadata": {
    "ExecuteTime": {
     "end_time": "2025-04-29T04:54:49.097333Z",
     "start_time": "2025-04-29T04:54:47.804509Z"
    }
   },
   "source": [
    "max_length = 1_000\n",
    "lower = True\n",
    "sos_token = \"<sos>\"\n",
    "eos_token = \"<eos>\"\n",
    "\n",
    "fn_kwargs = {\n",
    "    \"en_nlp\": en_nlp,\n",
    "    \"de_nlp\": de_nlp,\n",
    "    \"max_length\": max_length,\n",
    "    \"lower\": lower,\n",
    "    \"sos_token\": sos_token,\n",
    "    \"eos_token\": eos_token,\n",
    "}\n",
    "\n",
    "train_data = train_data.map(tokenize_example, fn_kwargs=fn_kwargs)\n",
    "valid_data = valid_data.map(tokenize_example, fn_kwargs=fn_kwargs)\n",
    "test_data = test_data.map(tokenize_example, fn_kwargs=fn_kwargs)\n"
   ],
   "outputs": [
    {
     "data": {
      "text/plain": [
       "Map:   0%|          | 0/1014 [00:00<?, ? examples/s]"
      ],
      "application/vnd.jupyter.widget-view+json": {
       "version_major": 2,
       "version_minor": 0,
       "model_id": "29a78e353791496baf6e030a41ad97e7"
      }
     },
     "metadata": {},
     "output_type": "display_data"
    },
    {
     "data": {
      "text/plain": [
       "Map:   0%|          | 0/1000 [00:00<?, ? examples/s]"
      ],
      "application/vnd.jupyter.widget-view+json": {
       "version_major": 2,
       "version_minor": 0,
       "model_id": "3f5d9cb94ea8409c9ee488e3e78bfb87"
      }
     },
     "metadata": {},
     "output_type": "display_data"
    }
   ],
   "execution_count": 12
  },
  {
   "metadata": {},
   "cell_type": "markdown",
   "source": [
    "## `<sos>`、`<eos>` 的含义与 `map` 函数的作用\n",
    "\n",
    "---\n",
    "\n",
    "### 一、特殊标记 `<sos>` 和 `<eos>` 的含义\n",
    "| 标记         | 全称                     | 作用                                                                                   | 示例                          |\n",
    "|--------------|--------------------------|--------------------------------------------------------------------------------------|-------------------------------|\n",
    "| `<sos>`      | Start Of Sequence        | 标识序列的**起始位置**，告知模型从此处开始生成或解析内容                                 | `<sos> Two men are walking`   |\n",
    "| `<eos>`      | End Of Sequence          | 标识序列的**结束位置**，帮助模型明确何时停止生成（避免无限生成）                          | `walking . <eos>`             |\n",
    "\n",
    "**技术意义**：  \n",
    "1. **序列边界控制**：为模型提供明确的输入/输出边界信号，是 Seq2Seq 模型的**标准实践**。  \n",
    "2. **解码约束**：在推理阶段，模型通过检测 `<eos>` 终止生成（如翻译时输出完整句子后停止）。  \n",
    "3. **注意力对齐**：帮助模型更好地学习序列间的对齐关系（如翻译中源语言与目标语言的词对应）。\n",
    "\n",
    "---\n",
    "\n",
    "### 二、`map` 函数的作用与实现逻辑\n",
    "\n",
    "#### 1. **核心功能**  \n",
    "将 `tokenize_example` 函数**批量应用**到数据集的所有样本上，实现**全量数据预处理**。\n",
    "\n",
    "#### 2. **参数解析**  \n",
    "```python\n",
    "dataset.map(\n",
    "    tokenize_example,         # 要应用的函数\n",
    "    fn_kwargs = fn_kwargs     # 传递给函数的额外参数（字典形式）\n",
    ")"
   ]
  },
  {
   "cell_type": "markdown",
   "metadata": {},
   "source": [
    "## 7、运行下方的单元格\n",
    "重新打印train_data\\[0]，验证小写字符串列表以及序列标记的开始/结束符已被成功添加。\n"
   ]
  },
  {
   "cell_type": "code",
   "metadata": {
    "ExecuteTime": {
     "end_time": "2025-04-29T04:55:48.048555Z",
     "start_time": "2025-04-29T04:55:48.030663Z"
    }
   },
   "source": [
    "train_data[0]"
   ],
   "outputs": [
    {
     "data": {
      "text/plain": [
       "{'en': 'Two young, White males are outside near many bushes.',\n",
       " 'de': 'Zwei junge weiße Männer sind im Freien in der Nähe vieler Büsche.',\n",
       " 'en_tokens': ['<sos>',\n",
       "  'two',\n",
       "  'young',\n",
       "  ',',\n",
       "  'white',\n",
       "  'males',\n",
       "  'are',\n",
       "  'outside',\n",
       "  'near',\n",
       "  'many',\n",
       "  'bushes',\n",
       "  '.',\n",
       "  '<eos>'],\n",
       " 'de_tokens': ['<sos>',\n",
       "  'zwei',\n",
       "  'junge',\n",
       "  'weiße',\n",
       "  'männer',\n",
       "  'sind',\n",
       "  'im',\n",
       "  'freien',\n",
       "  'in',\n",
       "  'der',\n",
       "  'nähe',\n",
       "  'vieler',\n",
       "  'büsche',\n",
       "  '.',\n",
       "  '<eos>']}"
      ]
     },
     "execution_count": 13,
     "metadata": {},
     "output_type": "execute_result"
    }
   ],
   "execution_count": 13
  },
  {
   "cell_type": "markdown",
   "metadata": {},
   "source": [
    "# 词汇表 Vocabularies"
   ]
  },
  {
   "cell_type": "markdown",
   "metadata": {},
   "source": [
    "下一个步骤是为源语言和目标语言构建词汇表，将词语映射为数字索引。比如\"hello\" = 1, \"world\" = 2, \"bye\" = 3, \"hates\" = 4。当向我们的模型提供文本数据时，我们使用词汇表作为look-up-table将字符串转换为标记，然后将标记转换为数字。“hello world”变成了“\\[“hello”，“world”]”，然后变成了“\\[1,2]”。"
   ]
  },
  {
   "metadata": {
    "ExecuteTime": {
     "end_time": "2025-04-29T04:55:51.792767Z",
     "start_time": "2025-04-29T04:55:50.816009Z"
    }
   },
   "cell_type": "code",
   "source": [
    "min_freq = 2\n",
    "unk_token = \"<unk>\"\n",
    "pad_token = \"<pad>\"\n",
    "\n",
    "special_tokens = [\n",
    "    unk_token,\n",
    "    pad_token,\n",
    "    sos_token,\n",
    "    eos_token,\n",
    "]\n",
    "\n",
    "en_vocab = torchtext.vocab.build_vocab_from_iterator(\n",
    "    train_data[\"en_tokens\"],\n",
    "    min_freq=min_freq,\n",
    "    specials=special_tokens,\n",
    ")\n",
    "\n",
    "de_vocab = torchtext.vocab.build_vocab_from_iterator(\n",
    "    train_data[\"de_tokens\"],\n",
    "    min_freq=min_freq,\n",
    "    specials=special_tokens,\n",
    ")"
   ],
   "outputs": [],
   "execution_count": 14
  },
  {
   "cell_type": "markdown",
   "metadata": {},
   "source": [
    "## 8、运行下方两个单元格\n",
    "验证词汇表，分别打印英语词汇表和德语词汇表的前十个Token。\n",
    "min_freq = 2\n",
    "unk_token = \"<unk>\"\n",
    "pad_token = \"<pad>\"\n",
    "\n",
    "special_tokens = [\n",
    "    unk_token,\n",
    "    pad_token,\n",
    "    sos_token,\n",
    "    eos_token,\n",
    "]\n",
    "\n",
    "en_vocab = torchtext.vocab.build_vocab_from_iterator(\n",
    "    train_data[\"en_tokens\"],\n",
    "    min_freq=min_freq,\n",
    "    specials=special_tokens,\n",
    ")\n",
    "\n",
    "de_vocab = torchtext.vocab.build_vocab_from_iterator(\n",
    "    train_data[\"de_tokens\"],\n",
    "    min_freq=min_freq,\n",
    "    specials=special_tokens,\n",
    ")"
   ]
  },
  {
   "cell_type": "code",
   "metadata": {
    "ExecuteTime": {
     "end_time": "2025-04-29T04:55:56.646407Z",
     "start_time": "2025-04-29T04:55:56.629949Z"
    }
   },
   "source": "en_vocab.get_itos()[:10]",
   "outputs": [
    {
     "data": {
      "text/plain": [
       "['<unk>', '<pad>', '<sos>', '<eos>', 'a', '.', 'in', 'the', 'on', 'man']"
      ]
     },
     "execution_count": 15,
     "metadata": {},
     "output_type": "execute_result"
    }
   ],
   "execution_count": 15
  },
  {
   "cell_type": "code",
   "metadata": {
    "ExecuteTime": {
     "end_time": "2025-04-29T04:55:58.172067Z",
     "start_time": "2025-04-29T04:55:58.155616Z"
    }
   },
   "source": "de_vocab.get_itos()[:10]",
   "outputs": [
    {
     "data": {
      "text/plain": [
       "['<unk>', '<pad>', '<sos>', '<eos>', '.', 'ein', 'einem', 'in', 'eine', ',']"
      ]
     },
     "execution_count": 16,
     "metadata": {},
     "output_type": "execute_result"
    }
   ],
   "execution_count": 16
  },
  {
   "cell_type": "markdown",
   "metadata": {},
   "source": [
    "## 9、运行下方的单元格\n",
    "使用get_stoi（stoi = \"string to int \"）方法获取指定的Token的索引。"
   ]
  },
  {
   "cell_type": "code",
   "metadata": {
    "ExecuteTime": {
     "end_time": "2025-04-29T04:56:00.177441Z",
     "start_time": "2025-04-29T04:56:00.170466Z"
    }
   },
   "source": [
    "en_vocab[\"the\"]"
   ],
   "outputs": [
    {
     "data": {
      "text/plain": [
       "7"
      ]
     },
     "execution_count": 17,
     "metadata": {},
     "output_type": "execute_result"
    }
   ],
   "execution_count": 17
  },
  {
   "cell_type": "code",
   "metadata": {
    "ExecuteTime": {
     "end_time": "2025-04-29T04:56:02.168053Z",
     "start_time": "2025-04-29T04:56:02.159532Z"
    }
   },
   "source": [
    "assert en_vocab[unk_token] == de_vocab[unk_token]\n",
    "assert en_vocab[pad_token] == de_vocab[pad_token]\n",
    "\n",
    "unk_index = en_vocab[unk_token]\n",
    "pad_index = en_vocab[pad_token]"
   ],
   "outputs": [],
   "execution_count": 18
  },
  {
   "metadata": {
    "ExecuteTime": {
     "end_time": "2025-04-29T04:56:04.384850Z",
     "start_time": "2025-04-29T04:56:04.376639Z"
    }
   },
   "cell_type": "code",
   "source": [
    "en_vocab.set_default_index(unk_index)\n",
    "de_vocab.set_default_index(unk_index)"
   ],
   "outputs": [],
   "execution_count": 19
  },
  {
   "cell_type": "markdown",
   "metadata": {},
   "source": [
    "词汇表的另一个有用特性是lookup_indices方法。它接受一个Token列表并返回一个索引列表。"
   ]
  },
  {
   "cell_type": "markdown",
   "metadata": {},
   "source": [
    "## 10、运行下方的单元格\n",
    "观察从Token列表到索引列表的转换。"
   ]
  },
  {
   "cell_type": "code",
   "metadata": {
    "ExecuteTime": {
     "end_time": "2025-04-29T04:56:06.748736Z",
     "start_time": "2025-04-29T04:56:06.737444Z"
    }
   },
   "source": [
    "tokens = [\"i\", \"love\", \"watching\", \"crime\", \"shows\"]\n",
    "en_vocab.lookup_indices(tokens)"
   ],
   "outputs": [
    {
     "data": {
      "text/plain": [
       "[956, 2169, 173, 0, 821]"
      ]
     },
     "execution_count": 20,
     "metadata": {},
     "output_type": "execute_result"
    }
   ],
   "execution_count": 20
  },
  {
   "cell_type": "markdown",
   "metadata": {},
   "source": [
    "对应的，lookup_tokens方法使用词汇表将索引列表转换回Token列表。"
   ]
  },
  {
   "cell_type": "markdown",
   "metadata": {},
   "source": [
    "## 11、运行下方的单元格\n",
    "观察从索引列表到Token列表的转换。\n"
   ]
  },
  {
   "cell_type": "code",
   "metadata": {
    "ExecuteTime": {
     "end_time": "2025-04-29T04:56:09.102591Z",
     "start_time": "2025-04-29T04:56:09.090429Z"
    }
   },
   "source": [
    "en_vocab.lookup_tokens(en_vocab.lookup_indices(tokens))"
   ],
   "outputs": [
    {
     "data": {
      "text/plain": [
       "['i', 'love', 'watching', '<unk>', 'shows']"
      ]
     },
     "execution_count": 21,
     "metadata": {},
     "output_type": "execute_result"
    }
   ],
   "execution_count": 21
  },
  {
   "cell_type": "markdown",
   "metadata": {},
   "source": [
    "## 12、添加一个Markdown单元格，在其中解释为什么原本的\"crime\"被转换成了\\<unk>。"
   ]
  },
  {
   "metadata": {},
   "cell_type": "markdown",
   "source": "在词表构建过程中，\"crime\" 被转换为 <unk>（未知词标记）的根本原因是：该词在训练数据中的出现频率低于 min_freq 的设定值，导致未被收录到词表中"
  },
  {
   "cell_type": "markdown",
   "metadata": {},
   "source": [
    "## 13、添加一个Markdown单元格，在其中解释下方两个单元格中代码的作用。\n"
   ]
  },
  {
   "cell_type": "code",
   "metadata": {
    "ExecuteTime": {
     "end_time": "2025-04-29T05:02:00.588113Z",
     "start_time": "2025-04-29T05:02:00.580014Z"
    }
   },
   "source": [
    "def numericalize_example(example, en_vocab, de_vocab):\n",
    "    en_ids = en_vocab.lookup_indices(example[\"en_tokens\"])\n",
    "    de_ids = de_vocab.lookup_indices(example[\"de_tokens\"])\n",
    "    return {\"en_ids\": en_ids, \"de_ids\": de_ids}"
   ],
   "outputs": [],
   "execution_count": 22
  },
  {
   "cell_type": "code",
   "metadata": {
    "ExecuteTime": {
     "end_time": "2025-04-29T05:02:02.525699Z",
     "start_time": "2025-04-29T05:02:02.268869Z"
    }
   },
   "source": [
    "fn_kwargs = {\"en_vocab\": en_vocab, \"de_vocab\": de_vocab}\n",
    "\n",
    "train_data = train_data.map(numericalize_example, fn_kwargs=fn_kwargs)\n",
    "valid_data = valid_data.map(numericalize_example, fn_kwargs=fn_kwargs)\n",
    "test_data = test_data.map(numericalize_example, fn_kwargs=fn_kwargs)"
   ],
   "outputs": [
    {
     "data": {
      "text/plain": [
       "Map:   0%|          | 0/1014 [00:00<?, ? examples/s]"
      ],
      "application/vnd.jupyter.widget-view+json": {
       "version_major": 2,
       "version_minor": 0,
       "model_id": "255cc9d4df6f4f828726dd660fadcfa0"
      }
     },
     "metadata": {},
     "output_type": "display_data"
    },
    {
     "data": {
      "text/plain": [
       "Map:   0%|          | 0/1000 [00:00<?, ? examples/s]"
      ],
      "application/vnd.jupyter.widget-view+json": {
       "version_major": 2,
       "version_minor": 0,
       "model_id": "9cdbbfb64c5b403798edfb18e93ecce2"
      }
     },
     "metadata": {},
     "output_type": "display_data"
    }
   ],
   "execution_count": 23
  },
  {
   "metadata": {},
   "cell_type": "markdown",
   "source": [
    "### 代码作用解释\n",
    "\n",
    "以下两个单元格的代码共同完成了**将文本数据转换为模型可处理的数字索引**的关键预处理步骤：\n",
    "\n",
    "---\n",
    "\n",
    "#### 单元格 1：数值化函数定义\n",
    "```python\n",
    "def numericalize_example(example, en_vocab, de_vocab):\n",
    "    en_ids = en_vocab.lookup_indices(example[\"en_tokens\"])  # 将英文词符转为索引\n",
    "    de_ids = de_vocab.lookup_indices(example[\"de_tokens\"])  # 将德文词符转为索引\n",
    "    return {\"en_ids\": en_ids, \"de_ids\": de_ids}  # 返回数字化的样本\n",
    "\n",
    "fn_kwargs = {\"en_vocab\": en_vocab, \"de_vocab\": de_vocab}  # 封装词汇表参数"
   ]
  },
  {
   "cell_type": "markdown",
   "metadata": {},
   "source": [
    "## 14、运行下方的单元格\n",
    "重新打印train_data\\[0]，验证\"en_ids\" and \"de_ids\"被成功添加。\n"
   ]
  },
  {
   "cell_type": "code",
   "metadata": {
    "ExecuteTime": {
     "end_time": "2025-04-29T05:02:06.038953Z",
     "start_time": "2025-04-29T05:02:06.027812Z"
    }
   },
   "source": [
    "train_data[0]"
   ],
   "outputs": [
    {
     "data": {
      "text/plain": [
       "{'en': 'Two young, White males are outside near many bushes.',\n",
       " 'de': 'Zwei junge weiße Männer sind im Freien in der Nähe vieler Büsche.',\n",
       " 'en_tokens': ['<sos>',\n",
       "  'two',\n",
       "  'young',\n",
       "  ',',\n",
       "  'white',\n",
       "  'males',\n",
       "  'are',\n",
       "  'outside',\n",
       "  'near',\n",
       "  'many',\n",
       "  'bushes',\n",
       "  '.',\n",
       "  '<eos>'],\n",
       " 'de_tokens': ['<sos>',\n",
       "  'zwei',\n",
       "  'junge',\n",
       "  'weiße',\n",
       "  'männer',\n",
       "  'sind',\n",
       "  'im',\n",
       "  'freien',\n",
       "  'in',\n",
       "  'der',\n",
       "  'nähe',\n",
       "  'vieler',\n",
       "  'büsche',\n",
       "  '.',\n",
       "  '<eos>'],\n",
       " 'en_ids': [2, 16, 24, 15, 25, 778, 17, 57, 80, 202, 1312, 5, 3],\n",
       " 'de_ids': [2, 18, 26, 253, 30, 84, 20, 88, 7, 15, 110, 7647, 3171, 4, 3]}"
      ]
     },
     "execution_count": 24,
     "metadata": {},
     "output_type": "execute_result"
    }
   ],
   "execution_count": 24
  },
  {
   "cell_type": "markdown",
   "metadata": {},
   "source": [
    "Dataset类为我们处理的另一件事是将features转换为正确的类型。每个例子中的索引目前都是基本的Python整数。然而，为了在PyTorch中使用它们，它们需要转换为PyTorch张量。with_format方法将columns参数转换为给定的类型。这里，我们指定类型为“torch”，columns为“en_ids”和“de_ids”（我们想要转换为PyTorch张量的features）。默认情况下，with_format将删除任何不在传递给列的features列表中的features。我们希望保留这些features，这可以通过output_all_columns=True来实现。"
   ]
  },
  {
   "cell_type": "code",
   "metadata": {
    "ExecuteTime": {
     "end_time": "2025-04-29T05:02:07.895599Z",
     "start_time": "2025-04-29T05:02:07.884421Z"
    }
   },
   "source": [
    "data_type = \"torch\"\n",
    "format_columns = [\"en_ids\", \"de_ids\"]\n",
    "\n",
    "train_data = train_data.with_format(\n",
    "    type=data_type, columns=format_columns, output_all_columns=True\n",
    ")\n",
    "\n",
    "valid_data = valid_data.with_format(\n",
    "    type=data_type,\n",
    "    columns=format_columns,\n",
    "    output_all_columns=True,\n",
    ")\n",
    "\n",
    "test_data = test_data.with_format(\n",
    "    type=data_type,\n",
    "    columns=format_columns,\n",
    "    output_all_columns=True,\n",
    ")"
   ],
   "outputs": [],
   "execution_count": 25
  },
  {
   "cell_type": "markdown",
   "metadata": {},
   "source": [
    "## 15、运行下方的单元格\n",
    "重新打印train_data[0]，验证“en_ids”和“de_ids”特征被转换为了张量。"
   ]
  },
  {
   "cell_type": "code",
   "metadata": {
    "ExecuteTime": {
     "end_time": "2025-04-29T05:02:09.715419Z",
     "start_time": "2025-04-29T05:02:09.663997Z"
    }
   },
   "source": [
    "train_data[0]"
   ],
   "outputs": [
    {
     "data": {
      "text/plain": [
       "{'en_ids': tensor([   2,   16,   24,   15,   25,  778,   17,   57,   80,  202, 1312,    5,\n",
       "            3]),\n",
       " 'de_ids': tensor([   2,   18,   26,  253,   30,   84,   20,   88,    7,   15,  110, 7647,\n",
       "         3171,    4,    3]),\n",
       " 'en': 'Two young, White males are outside near many bushes.',\n",
       " 'de': 'Zwei junge weiße Männer sind im Freien in der Nähe vieler Büsche.',\n",
       " 'en_tokens': ['<sos>',\n",
       "  'two',\n",
       "  'young',\n",
       "  ',',\n",
       "  'white',\n",
       "  'males',\n",
       "  'are',\n",
       "  'outside',\n",
       "  'near',\n",
       "  'many',\n",
       "  'bushes',\n",
       "  '.',\n",
       "  '<eos>'],\n",
       " 'de_tokens': ['<sos>',\n",
       "  'zwei',\n",
       "  'junge',\n",
       "  'weiße',\n",
       "  'männer',\n",
       "  'sind',\n",
       "  'im',\n",
       "  'freien',\n",
       "  'in',\n",
       "  'der',\n",
       "  'nähe',\n",
       "  'vieler',\n",
       "  'büsche',\n",
       "  '.',\n",
       "  '<eos>']}"
      ]
     },
     "execution_count": 26,
     "metadata": {},
     "output_type": "execute_result"
    }
   ],
   "execution_count": 26
  },
  {
   "cell_type": "markdown",
   "metadata": {},
   "source": [
    "# Data Loaders"
   ]
  },
  {
   "cell_type": "markdown",
   "metadata": {},
   "source": [
    "数据准备的最后一步是创建Data Loaders。可以对它们进行迭代以返回一批数据，每一批数据都是一个字典，其中包含数字化的英语和德语句子作为PyTorch张量。"
   ]
  },
  {
   "cell_type": "markdown",
   "metadata": {},
   "source": [
    "## 16、添加一个Markdown单元格，在其中解释下方两个单元格中的函数的作用。"
   ]
  },
  {
   "cell_type": "code",
   "metadata": {
    "ExecuteTime": {
     "end_time": "2025-04-29T05:02:13.700448Z",
     "start_time": "2025-04-29T05:02:13.688186Z"
    }
   },
   "source": [
    "def get_collate_fn(pad_index):\n",
    "    def collate_fn(batch):\n",
    "        batch_en_ids = [example[\"en_ids\"] for example in batch]\n",
    "        batch_de_ids = [example[\"de_ids\"] for example in batch]\n",
    "        batch_en_ids = nn.utils.rnn.pad_sequence(batch_en_ids, padding_value=pad_index)\n",
    "        batch_de_ids = nn.utils.rnn.pad_sequence(batch_de_ids, padding_value=pad_index)\n",
    "        batch = {\n",
    "            \"en_ids\": batch_en_ids,\n",
    "            \"de_ids\": batch_de_ids,\n",
    "        }\n",
    "        return batch\n",
    "\n",
    "    return collate_fn"
   ],
   "outputs": [],
   "execution_count": 27
  },
  {
   "cell_type": "code",
   "metadata": {
    "ExecuteTime": {
     "end_time": "2025-04-29T05:07:53.475536Z",
     "start_time": "2025-04-29T05:07:53.460048Z"
    }
   },
   "source": [
    "def get_data_loader(dataset, batch_size, pad_index, shuffle=False):\n",
    "    collate_fn = get_collate_fn(pad_index)\n",
    "    data_loader = torch.utils.data.DataLoader(\n",
    "        dataset=dataset,\n",
    "        batch_size=batch_size,\n",
    "        collate_fn=collate_fn,\n",
    "        shuffle=shuffle,\n",
    "    )\n",
    "    return data_loader"
   ],
   "outputs": [],
   "execution_count": 28
  },
  {
   "cell_type": "code",
   "metadata": {
    "ExecuteTime": {
     "end_time": "2025-04-29T05:07:55.481613Z",
     "start_time": "2025-04-29T05:07:55.473491Z"
    }
   },
   "source": [
    "batch_size = 128\n",
    "\n",
    "train_data_loader = get_data_loader(train_data, batch_size, pad_index, shuffle=True)\n",
    "valid_data_loader = get_data_loader(valid_data, batch_size, pad_index)\n",
    "test_data_loader = get_data_loader(test_data, batch_size, pad_index)"
   ],
   "outputs": [],
   "execution_count": 29
  },
  {
   "metadata": {},
   "cell_type": "markdown",
   "source": [
    "## 函数功能解析\n",
    "\n",
    "### 整体目标\n",
    "下方两个单元格的代码共同实现了**将预处理后的数据集转换为适合神经网络训练的批量张量数据**。核心解决两个问题：\n",
    "1. **变长序列对齐**：通过填充使同批次内的序列等长\n",
    "2. **数据加载优化**：高效生成可迭代的训练批次\n",
    "\n",
    "---\n",
    "\n",
    "### 函数详解\n",
    "\n",
    "#### 函数1：`get_collate_fn(pad_index)`\n",
    "```python\n",
    "def get_collate_fn(pad_index):\n",
    "    def collate_fn(batch):\n",
    "        # 提取批次的英/德语句索引\n",
    "        batch_en_ids = [example[\"en_ids\"] for example in batch]\n",
    "        batch_de_ids = [example[\"de_ids\"] for example in batch]\n",
    "        \n",
    "        # 填充序列到等长（用pad_index填充）\n",
    "        batch_en_ids = nn.utils.rnn.pad_sequence(batch_en_ids, padding_value=pad_index)\n",
    "        batch_de_ids = nn.utils.rnn.pad_sequence(batch_de_ids, padding_value=pad_index)\n",
    "        \n",
    "        # 返回张量格式的批次数据\n",
    "        return {\"en_ids\": batch_en_ids, \"de_ids\": batch_de_ids}\n",
    "    \n",
    "    return collate_fn\n"
   ]
  },
  {
   "metadata": {},
   "cell_type": "markdown",
   "source": [
    "#### 函数2：`get_data_loader(dataset, batch_size, pad_index, shuffle=False)`\n",
    "python\n",
    "def get_data_loader(dataset, batch_size, pad_index, shuffle=False):\n",
    "    collate_fn = get_collate_fn(pad_index)  # 获取填充函数\n",
    "    return torch.utils.data.DataLoader(\n",
    "        dataset=dataset,\n",
    "        batch_size=batch_size,\n",
    "        collate_fn=collate_fn,  # 应用填充逻辑\n",
    "        shuffle=shuffle         # 是否打乱顺序\n",
    "    )"
   ]
  },
  {
   "cell_type": "markdown",
   "metadata": {},
   "source": [
    "# 构建模型"
   ]
  },
  {
   "cell_type": "markdown",
   "metadata": {},
   "source": [
    "我们将分三部分构建模型。编码器，解码器和封装编码器和解码器的seq2seq模型。"
   ]
  },
  {
   "cell_type": "markdown",
   "metadata": {},
   "source": [
    "# 编码器 Encoder"
   ]
  },
  {
   "cell_type": "markdown",
   "metadata": {},
   "source": [
    "首先是编码器，它是一个2层的LSTM。"
   ]
  },
  {
   "cell_type": "markdown",
   "metadata": {},
   "source": [
    "## 17、添加一个Markdown单元格，解释下方单元格中Encoder类的代码。\n",
    "包括输入参数，核心组件（词嵌入层、LSTM层、Dropout层），forwad函数的处理流程，和输出。"
   ]
  },
  {
   "cell_type": "code",
   "metadata": {
    "ExecuteTime": {
     "end_time": "2025-04-29T05:08:00.640473Z",
     "start_time": "2025-04-29T05:08:00.636361Z"
    }
   },
   "source": [
    "class Encoder(nn.Module):\n",
    "    def __init__(self, input_dim, embedding_dim, hidden_dim, n_layers, dropout):\n",
    "        super().__init__()\n",
    "        self.hidden_dim = hidden_dim\n",
    "        self.n_layers = n_layers\n",
    "        self.embedding = nn.Embedding(input_dim, embedding_dim)\n",
    "        self.rnn = nn.LSTM(embedding_dim, hidden_dim, n_layers, dropout=dropout)\n",
    "        self.dropout = nn.Dropout(dropout)\n",
    "\n",
    "    def forward(self, src):\n",
    "        # src = [src length, batch size]\n",
    "        embedded = self.dropout(self.embedding(src))\n",
    "        # embedded = [src length, batch size, embedding dim]\n",
    "        outputs, (hidden, cell) = self.rnn(embedded)\n",
    "        # outputs = [src length, batch size, hidden dim * n directions]\n",
    "        # hidden = [n layers * n directions, batch size, hidden dim]\n",
    "        # cell = [n layers * n directions, batch size, hidden dim]\n",
    "        # outputs are always from the top hidden layer\n",
    "        return hidden, cell"
   ],
   "outputs": [],
   "execution_count": 30
  },
  {
   "metadata": {},
   "cell_type": "markdown",
   "source": [
    "## Encoder 类代码解析\n",
    "\n",
    "### 类功能概述\n",
    "该 `Encoder` 类实现了 **序列到序列（Seq2Seq）模型中的编码器部分**，负责将输入序列转换为上下文向量（Context Vector），核心功能包括：\n",
    "1. **词嵌入表示**：将离散的词索引映射为连续向量\n",
    "2. **上下文特征提取**：通过 LSTM 捕获序列的时序特征\n",
    "3. **状态压缩**：输出最终隐藏状态作为序列的语义表示\n",
    "\n",
    "---\n",
    "\n",
    "### 输入参数说明\n",
    "| 参数             | 类型   | 说明                                                                 |\n",
    "|------------------|--------|--------------------------------------------------------------------|\n",
    "| `input_dim`      | int    | 输入词表大小（即不同词符的数量）                                       |\n",
    "| `embedding_dim`  | int    | 词嵌入向量的维度（通常 100-300）                                      |\n",
    "| `hidden_dim`     | int    | LSTM 隐藏层的维度（决定特征提取能力，通常 256-1024）                   |\n",
    "| `n_layers`       | int    | 堆叠的 LSTM 层数（深层网络可捕获复杂特征，通常 1-4）                    |\n",
    "| `dropout`        | float  | Dropout 概率（防止过拟合，范围 0-1，仅在 `n_layers > 1` 时生效）        |\n",
    "\n",
    "---\n",
    "\n",
    "### 核心组件解析\n",
    "\n",
    "#### 1. 词嵌入层 (`nn.Embedding`)\n",
    "- **功能**：将离散的词索引转换为密集向量表示\n",
    "- **数学形式**：`embedding_matrix = W ∈ ℝ^(input_dim × embedding_dim)`\n",
    "- **示例**：若 `input_dim=10000`, `embedding_dim=300`，则生成 10,000 个 300 维向量\n",
    "\n",
    "#### 2. LSTM 层 (`nn.LSTM`)\n",
    "- **结构特性**：\n",
    "  - 单层/多层堆叠结构\n",
    "  - 每个时间步传递隐藏状态和细胞状态\n",
    "- **参数维度**：\n",
    "  - 输入维度：`embedding_dim`\n",
    "  - 隐藏状态维度：`hidden_dim`\n",
    "  - 层间 Dropout：当 `n_layers > 1` 时生效\n",
    "\n",
    "#### 3. Dropout 层 (`nn.Dropout`)\n",
    "- **作用位置**：在词嵌入后应用\n",
    "- **功能**：随机屏蔽部分神经元，增强模型泛化能力\n",
    "- **注意**：仅在模型训练时激活，评估模式自动关闭\n",
    "\n",
    "---\n",
    "\n",
    "### Forward 处理流程\n",
    "\n",
    "#### 输入数据格式\n",
    "- **src**: 形状为 `[src_length, batch_size]` 的张量\n",
    "  - 示例：一个批次包含 32 个句子，每个句子长 20 词 → `shape=(20, 32)`\n",
    "\n",
    "#### 处理步骤\n",
    "1. **词嵌入转换**  \n",
    "   ```python\n",
    "   embedded = self.dropout(self.embedding(src))  \n",
    "   # 输出形状: [src_length, batch_size, embedding_dim]"
   ]
  },
  {
   "cell_type": "markdown",
   "metadata": {},
   "source": [
    "# 解码器 Decoder"
   ]
  },
  {
   "cell_type": "markdown",
   "metadata": {},
   "source": [
    "接下来是解码器，它需要与编码器对齐，同样是一个2层的LSTM。"
   ]
  },
  {
   "cell_type": "markdown",
   "metadata": {},
   "source": [
    "## 18、添加一个Markdown单元格，描述Decoder的工作流程。"
   ]
  },
  {
   "cell_type": "code",
   "metadata": {
    "ExecuteTime": {
     "end_time": "2025-04-29T05:10:43.617230Z",
     "start_time": "2025-04-29T05:10:43.604223Z"
    }
   },
   "source": [
    "class Decoder(nn.Module):\n",
    "    def __init__(self, output_dim, embedding_dim, hidden_dim, n_layers, dropout):\n",
    "        super().__init__()\n",
    "        self.output_dim = output_dim\n",
    "        self.hidden_dim = hidden_dim\n",
    "        self.n_layers = n_layers\n",
    "        self.embedding = nn.Embedding(output_dim, embedding_dim)\n",
    "        self.rnn = nn.LSTM(embedding_dim, hidden_dim, n_layers, dropout=dropout)\n",
    "        self.fc_out = nn.Linear(hidden_dim, output_dim)\n",
    "        self.dropout = nn.Dropout(dropout)\n",
    "\n",
    "    def forward(self, input, hidden, cell):\n",
    "        # input = [batch size]\n",
    "        # hidden = [n layers * n directions, batch size, hidden dim]\n",
    "        # cell = [n layers * n directions, batch size, hidden dim]\n",
    "        # n directions in the decoder will both always be 1, therefore:\n",
    "        # hidden = [n layers, batch size, hidden dim]\n",
    "        # context = [n layers, batch size, hidden dim]\n",
    "        input = input.unsqueeze(0)\n",
    "        # input = [1, batch size]\n",
    "        embedded = self.dropout(self.embedding(input))\n",
    "        # embedded = [1, batch size, embedding dim]\n",
    "        output, (hidden, cell) = self.rnn(embedded, (hidden, cell))\n",
    "        # output = [seq length, batch size, hidden dim * n directions]\n",
    "        # hidden = [n layers * n directions, batch size, hidden dim]\n",
    "        # cell = [n layers * n directions, batch size, hidden dim]\n",
    "        # seq length and n directions will always be 1 in this decoder, therefore:\n",
    "        # output = [1, batch size, hidden dim]\n",
    "        # hidden = [n layers, batch size, hidden dim]\n",
    "        # cell = [n layers, batch size, hidden dim]\n",
    "        prediction = self.fc_out(output.squeeze(0))\n",
    "        # prediction = [batch size, output dim]\n",
    "        return prediction, hidden, cell"
   ],
   "outputs": [],
   "execution_count": 32
  },
  {
   "metadata": {},
   "cell_type": "markdown",
   "source": [
    "## Decoder 类工作流程解析\n",
    "\n",
    "### 功能定位\n",
    "Decoder 是 Seq2Seq 模型中的**序列生成器**，负责将编码器的上下文向量逐步解码为目标序列。其核心任务包括：\n",
    "1. **逐步预测**：以自回归方式生成目标序列的每个词符\n",
    "2. **状态传递**：维护 LSTM 的隐藏状态以保持序列连贯性\n",
    "3. **概率映射**：将隐藏状态转换为目标词表的概率分布\n",
    "\n",
    "---\n",
    "\n",
    "### 输入参数说明\n",
    "| 参数             | 类型   | 作用描述                                                                 |\n",
    "|------------------|--------|------------------------------------------------------------------------|\n",
    "| `output_dim`     | int    | 目标语言词表大小（决定最终输出维度）                                        |\n",
    "| `embedding_dim`  | int    | 目标词嵌入维度（需与编码器一致或独立设定）                                   |\n",
    "| `hidden_dim`     | int    | LSTM 隐藏层维度（需与编码器相同以实现状态兼容）                              |\n",
    "| `n_layers`       | int    | LSTM 堆叠层数（通常与编码器对称）                                           |\n",
    "| `dropout`        | float  | Dropout 概率（仅在训练时生效）                                              |\n",
    "\n",
    "---\n",
    "\n",
    "### 核心组件架构\n",
    "\n",
    "#### 1. 词嵌入层 (`nn.Embedding`)\n",
    "- 将目标词索引映射为连续向量\n",
    "- 参数维度：`(output_dim, embedding_dim)`\n",
    "\n",
    "#### 2. LSTM 层 (`nn.LSTM`)\n",
    "- 接收嵌入向量与编码器的最终状态\n",
    "- 参数维度：`input_size=embedding_dim`, `hidden_size=hidden_dim`\n",
    "\n",
    "#### 3. 全连接层 (`nn.Linear`)\n",
    "- 将 LSTM 输出映射到目标词表空间\n",
    "- 参数维度：`(hidden_dim, output_dim)`\n",
    "\n",
    "#### 4. Dropout 层 (`nn.Dropout`)\n",
    "- 在词嵌入后应用，增强泛化能力\n",
    "\n",
    "---\n",
    "\n",
    "### Forward 处理流程\n",
    "\n",
    "#### 输入数据格式\n",
    "| 参数      | 形状                            | 来源说明                           |\n",
    "|-----------|---------------------------------|----------------------------------|\n",
    "| `input`   | `[batch_size]`                 | 当前时间步的输入词索引（通常是上一个预测词或真实词） |\n",
    "| `hidden`  | `[n_layers, batch_size, hidden_dim]` | 编码器的最终隐藏状态或上一个时间步的隐藏状态 |\n",
    "| `cell`    | `[n_layers, batch_size, hidden_dim]` | 编码器的最终细胞状态或上一个时间步的细胞状态 |\n",
    "\n",
    "#### 处理步骤\n",
    "1. **维度扩展**  \n",
    "   ```python\n",
    "   input = input.unsqueeze(0)  # [1, batch_size]\n",
    "添加序列长度维度（单个时间步输入）\n",
    "\n",
    "词嵌入转换\n",
    "\n",
    "python\n",
    "embedded = self.dropout(self.embedding(input))  # [1, batch_size, embedding_dim]\n",
    "LSTM 状态更新\n",
    "\n",
    "python\n",
    "output, (hidden, cell) = self.rnn(embedded, (hidden, cell))\n",
    "输出形状：\n",
    "\n",
    "output: [1, batch_size, hidden_dim]\n",
    "\n",
    "hidden/cell: [n_layers, batch_size, hidden_dim]\n",
    "\n",
    "概率分布生成\n",
    "\n",
    "python\n",
    "prediction = self.fc_out(output.squeeze(0))  # [batch_size, output_dim]\n",
    "通过 softmax 可得各词的预测概率（实际应用时需额外添加 softmax 层）"
   ]
  },
  {
   "cell_type": "markdown",
   "metadata": {},
   "source": [
    "# Seq2Seq"
   ]
  },
  {
   "cell_type": "markdown",
   "metadata": {},
   "source": [
    "## 19、添加一个Markdown单元格，解释下方单元格中Seq2Seq类的代码。\n",
    "包括forward函数的流程，以及teacher forcing机制。"
   ]
  },
  {
   "cell_type": "code",
   "metadata": {
    "ExecuteTime": {
     "end_time": "2025-04-29T05:11:36.167572Z",
     "start_time": "2025-04-29T05:11:36.158749Z"
    }
   },
   "source": [
    "class Seq2Seq(nn.Module):\n",
    "    def __init__(self, encoder, decoder, device):\n",
    "        super().__init__()\n",
    "        self.encoder = encoder\n",
    "        self.decoder = decoder\n",
    "        self.device = device\n",
    "        assert (\n",
    "            encoder.hidden_dim == decoder.hidden_dim\n",
    "        ), \"Hidden dimensions of encoder and decoder must be equal!\"\n",
    "        assert (\n",
    "            encoder.n_layers == decoder.n_layers\n",
    "        ), \"Encoder and decoder must have equal number of layers!\"\n",
    "\n",
    "    def forward(self, src, trg, teacher_forcing_ratio):\n",
    "        # src = [src length, batch size]\n",
    "        # trg = [trg length, batch size]\n",
    "        # teacher_forcing_ratio is probability to use teacher forcing\n",
    "        # e.g. if teacher_forcing_ratio is 0.75 we use ground-truth inputs 75% of the time\n",
    "        batch_size = trg.shape[1]\n",
    "        trg_length = trg.shape[0]\n",
    "        trg_vocab_size = self.decoder.output_dim\n",
    "        # tensor to store decoder outputs\n",
    "        outputs = torch.zeros(trg_length, batch_size, trg_vocab_size).to(self.device)\n",
    "        # last hidden state of the encoder is used as the initial hidden state of the decoder\n",
    "        hidden, cell = self.encoder(src)\n",
    "        # hidden = [n layers * n directions, batch size, hidden dim]\n",
    "        # cell = [n layers * n directions, batch size, hidden dim]\n",
    "        # first input to the decoder is the <sos> tokens\n",
    "        input = trg[0, :]\n",
    "        # input = [batch size]\n",
    "        for t in range(1, trg_length):\n",
    "            # insert input token embedding, previous hidden and previous cell states\n",
    "            # receive output tensor (predictions) and new hidden and cell states\n",
    "            output, hidden, cell = self.decoder(input, hidden, cell)\n",
    "            # output = [batch size, output dim]\n",
    "            # hidden = [n layers, batch size, hidden dim]\n",
    "            # cell = [n layers, batch size, hidden dim]\n",
    "            # place predictions in a tensor holding predictions for each token\n",
    "            outputs[t] = output\n",
    "            # decide if we are going to use teacher forcing or not\n",
    "            teacher_force = random.random() < teacher_forcing_ratio\n",
    "            # get the highest predicted token from our predictions\n",
    "            top1 = output.argmax(1)\n",
    "            # if teacher forcing, use actual next token as next input\n",
    "            # if not, use predicted token\n",
    "            input = trg[t] if teacher_force else top1\n",
    "            # input = [batch size]\n",
    "        return outputs"
   ],
   "outputs": [],
   "execution_count": 33
  },
  {
   "metadata": {},
   "cell_type": "markdown",
   "source": [
    "## Seq2Seq 类代码解析\n",
    "\n",
    "### 整体功能\n",
    "`Seq2Seq` 类实现了经典的**编码器-解码器架构**，通过协调 Encoder 和 Decoder 完成端到端的序列转换任务。其核心功能包括：\n",
    "1. **全流程控制**：串联编码和解码阶段\n",
    "2. **动态教学引导**：通过 Teacher Forcing 机制平衡真实标签与预测结果\n",
    "3. **状态管理**：维护 LSTM 状态在时间步间的传递\n",
    "\n",
    "---\n",
    "\n",
    "### Forward 函数处理流程\n",
    "\n",
    "#### 输入参数说明\n",
    "| 参数                   | 形状                      | 作用                                                                 |\n",
    "|------------------------|--------------------------|--------------------------------------------------------------------|\n",
    "| `src`                  | `[src_len, batch_size]`  | 源语言序列（如英语句子）                                               |\n",
    "| `trg`                  | `[trg_len, batch_size]`  | 目标语言序列（如德语句子）                                              |\n",
    "| `teacher_forcing_ratio`| float (0-1)              | 使用真实标签作为解码器输入的概率                                         |\n",
    "\n",
    "#### 处理步骤详解\n",
    "\n",
    "1. **初始化输出容器**\n",
    "   ```python\n",
    "   outputs = torch.zeros(trg_length, batch_size, trg_vocab_size).to(device)\n",
    "创建形状为 [目标序列长度, 批次大小, 目标词表大小] 的张量\n",
    "\n",
    "示例：德语翻译任务中，若目标序列长 15，批次 32，词表 10000 → shape=(15, 32, 10000)\n",
    "\n",
    "编码源序列\n",
    "\n",
    "python\n",
    "hidden, cell = self.encoder(src)  # 获取上下文向量\n",
    "输出隐藏状态作为解码器的初始状态\n",
    "\n",
    "设置初始输入\n",
    "\n",
    "python\n",
    "input = trg[0, :]  # 取目标序列首字符 <sos>\n",
    "所有样本的初始输入均为起始符\n",
    "\n",
    "自回归解码循环\n",
    "\n",
    "python\n",
    "for t in range(1, trg_length):\n",
    "    output, hidden, cell = self.decoder(input, hidden, cell)\n",
    "    outputs[t] = output  # 存储当前时间步预测结果\n",
    "    \n",
    "    # Teacher Forcing 决策\n",
    "    teacher_force = random.random() < teacher_forcing_ratio\n",
    "    top1 = output.argmax(1)  # 取预测概率最高的词\n",
    "    input = trg[t] if teacher_force else top1"
   ]
  },
  {
   "cell_type": "markdown",
   "metadata": {},
   "source": [
    "# 模型训练\n",
    "\n",
    "模型初始化"
   ]
  },
  {
   "cell_type": "markdown",
   "metadata": {},
   "source": [
    "## 20、添加注释\n",
    "分别将“# 编码器初始化”，“# 解码器初始化”，“# Seq2Seq模型整合”这三行注释加到下方单元格中正确的位置"
   ]
  },
  {
   "cell_type": "code",
   "metadata": {
    "ExecuteTime": {
     "end_time": "2025-04-29T05:17:06.781976Z",
     "start_time": "2025-04-29T05:17:06.710071Z"
    }
   },
   "source": [
    "input_dim = len(de_vocab)\n",
    "output_dim = len(en_vocab)\n",
    "encoder_embedding_dim = 256\n",
    "decoder_embedding_dim = 256\n",
    "hidden_dim = 512\n",
    "n_layers = 2\n",
    "encoder_dropout = 0.5\n",
    "decoder_dropout = 0.5\n",
    "device = torch.device(\"cuda\" if torch.cuda.is_available() else \"cpu\")\n",
    "\n",
    "# 编码器初始化\n",
    "encoder = Encoder(\n",
    "    input_dim,\n",
    "    encoder_embedding_dim,\n",
    "    hidden_dim,\n",
    "    n_layers,\n",
    "    encoder_dropout,\n",
    ")\n",
    "\n",
    "# 解码器初始化\n",
    "decoder = Decoder(\n",
    "    output_dim,\n",
    "    decoder_embedding_dim,\n",
    "    hidden_dim,\n",
    "    n_layers,\n",
    "    decoder_dropout,\n",
    ")\n",
    "\n",
    "# Seq2Seq模型整合\n",
    "model = Seq2Seq(encoder, decoder, device).to(device)"
   ],
   "outputs": [],
   "execution_count": 39
  },
  {
   "cell_type": "markdown",
   "metadata": {},
   "source": [
    "权重初始化"
   ]
  },
  {
   "cell_type": "code",
   "metadata": {
    "ExecuteTime": {
     "end_time": "2025-04-29T05:16:11.050321Z",
     "start_time": "2025-04-29T05:16:10.930513Z"
    }
   },
   "source": [
    "def init_weights(m):\n",
    "    for name, param in m.named_parameters():\n",
    "        nn.init.uniform_(param.data, -0.08, 0.08)\n",
    "\n",
    "\n",
    "model.apply(init_weights)"
   ],
   "outputs": [
    {
     "data": {
      "text/plain": [
       "Seq2Seq(\n",
       "  (encoder): Encoder(\n",
       "    (embedding): Embedding(7853, 256)\n",
       "    (rnn): LSTM(256, 512, num_layers=2, dropout=0.5)\n",
       "    (dropout): Dropout(p=0.5, inplace=False)\n",
       "  )\n",
       "  (decoder): Decoder(\n",
       "    (embedding): Embedding(5893, 256)\n",
       "    (rnn): LSTM(256, 512, num_layers=2, dropout=0.5)\n",
       "    (fc_out): Linear(in_features=512, out_features=5893, bias=True)\n",
       "    (dropout): Dropout(p=0.5, inplace=False)\n",
       "  )\n",
       ")"
      ]
     },
     "execution_count": 35,
     "metadata": {},
     "output_type": "execute_result"
    }
   ],
   "execution_count": 35
  },
  {
   "cell_type": "code",
   "metadata": {
    "ExecuteTime": {
     "end_time": "2025-04-29T05:16:12.869826Z",
     "start_time": "2025-04-29T05:16:12.856568Z"
    }
   },
   "source": [
    "def count_parameters(model):\n",
    "    return sum(p.numel() for p in model.parameters() if p.requires_grad)\n",
    "\n",
    "\n",
    "print(f\"The model has {count_parameters(model):,} trainable parameters\")"
   ],
   "outputs": [
    {
     "name": "stdout",
     "output_type": "stream",
     "text": [
      "The model has 13,898,501 trainable parameters\n"
     ]
    }
   ],
   "execution_count": 36
  },
  {
   "cell_type": "markdown",
   "metadata": {},
   "source": [
    "优化器 optimizer"
   ]
  },
  {
   "cell_type": "code",
   "metadata": {
    "ExecuteTime": {
     "end_time": "2025-04-29T05:16:15.365738Z",
     "start_time": "2025-04-29T05:16:15.358768Z"
    }
   },
   "source": [
    "optimizer = optim.Adam(model.parameters())"
   ],
   "outputs": [],
   "execution_count": 37
  },
  {
   "cell_type": "markdown",
   "metadata": {},
   "source": [
    "损失函数 Loss Function"
   ]
  },
  {
   "cell_type": "code",
   "metadata": {
    "ExecuteTime": {
     "end_time": "2025-04-29T05:16:17.126926Z",
     "start_time": "2025-04-29T05:16:17.117918Z"
    }
   },
   "source": [
    "criterion = nn.CrossEntropyLoss(ignore_index=pad_index)"
   ],
   "outputs": [],
   "execution_count": 38
  },
  {
   "cell_type": "markdown",
   "metadata": {},
   "source": [
    "Training Loop:"
   ]
  },
  {
   "cell_type": "markdown",
   "metadata": {},
   "source": [
    "## 21、给下方单元格中的代码逐行加注释"
   ]
  },
  {
   "metadata": {
    "ExecuteTime": {
     "end_time": "2025-04-29T05:28:00.330385Z",
     "start_time": "2025-04-29T05:28:00.321790Z"
    }
   },
   "cell_type": "code",
   "source": [
    "def train_fn(\n",
    "    model, data_loader, optimizer, criterion, clip, teacher_forcing_ratio, device\n",
    "):\n",
    "    # 设置模型为训练模式（启用dropout等）\n",
    "    model.train()\n",
    "    # 初始化累计损失\n",
    "    epoch_loss = 0\n",
    "    \n",
    "    # 遍历数据加载器中的每个批次\n",
    "    for i, batch in enumerate(data_loader):\n",
    "        # 获取德语->英语的源/目标序列并转移到指定设备\n",
    "        src = batch[\"de_ids\"].to(device)  # 源语言序列（德语）\n",
    "        trg = batch[\"en_ids\"].to(device)  # 目标语言序列（英语）\n",
    "        # src形状 = [序列长度, 批次大小]\n",
    "        # trg形状 = [序列长度, 批次大小]\n",
    "\n",
    "        # 清空上一批次的梯度\n",
    "        optimizer.zero_grad()\n",
    "        \n",
    "        # 前向传播：获取模型输出\n",
    "        output = model(src, trg, teacher_forcing_ratio)\n",
    "        # output形状 = [目标序列长度, 批次大小, 目标词表大小]\n",
    "        \n",
    "        # 调整输出形状以计算损失：\n",
    "        # 1. 忽略第一个时间步（<sos>不参与预测）\n",
    "        # 2. 展平为二维张量 [(trg_len-1)*batch_size, vocab_size]\n",
    "        output_dim = output.shape[-1]\n",
    "        output = output[1:].view(-1, output_dim)\n",
    "        \n",
    "        # 调整目标序列形状：\n",
    "        # 1. 忽略第一个时间步（预测从第二个词开始）\n",
    "        # 2. 展平为一维张量 [(trg_len-1)*batch_size]\n",
    "        trg = trg[1:].view(-1)\n",
    "        \n",
    "        # 计算交叉熵损失（自动处理ignore_index）\n",
    "        loss = criterion(output, trg)\n",
    "        \n",
    "        # 反向传播计算梯度\n",
    "        loss.backward()\n",
    "        \n",
    "        # 梯度裁剪防止梯度爆炸\n",
    "        torch.nn.utils.clip_grad_norm_(model.parameters(), clip)\n",
    "        \n",
    "        # 更新模型参数\n",
    "        optimizer.step()\n",
    "        \n",
    "        # 累计批次损失（自动解包标量值）\n",
    "        epoch_loss += loss.item()\n",
    "    \n",
    "    # 返回该epoch的平均损失\n",
    "    return epoch_loss / len(data_loader)"
   ],
   "outputs": [],
   "execution_count": 45
  },
  {
   "cell_type": "code",
   "metadata": {
    "ExecuteTime": {
     "end_time": "2025-04-29T05:17:38.471660Z",
     "start_time": "2025-04-29T05:17:38.467007Z"
    }
   },
   "source": [
    "# def train_fn(\n",
    "#     model, data_loader, optimizer, criterion, clip, teacher_forcing_ratio, device\n",
    "# ):\n",
    "#     model.train()\n",
    "#     epoch_loss = 0\n",
    "#     for i, batch in enumerate(data_loader):\n",
    "#         src = batch[\"de_ids\"].to(device)\n",
    "#         trg = batch[\"en_ids\"].to(device)\n",
    "#         # src = [src length, batch size]\n",
    "#         # trg = [trg length, batch size]\n",
    "#         optimizer.zero_grad()\n",
    "#         output = model(src, trg, teacher_forcing_ratio)\n",
    "#         # output = [trg length, batch size, trg vocab size]\n",
    "#         output_dim = output.shape[-1]\n",
    "#         output = output[1:].view(-1, output_dim)\n",
    "#         # output = [(trg length - 1) * batch size, trg vocab size]\n",
    "#         trg = trg[1:].view(-1)\n",
    "#         # trg = [(trg length - 1) * batch size]\n",
    "#         loss = criterion(output, trg)\n",
    "#         loss.backward()\n",
    "#         torch.nn.utils.clip_grad_norm_(model.parameters(), clip)\n",
    "#         optimizer.step()\n",
    "#         epoch_loss += loss.item()\n",
    "#     return epoch_loss / len(data_loader)"
   ],
   "outputs": [],
   "execution_count": 40
  },
  {
   "cell_type": "markdown",
   "metadata": {},
   "source": [
    "Evaluation Loop:"
   ]
  },
  {
   "cell_type": "code",
   "metadata": {
    "ExecuteTime": {
     "end_time": "2025-04-29T05:17:40.551423Z",
     "start_time": "2025-04-29T05:17:40.542287Z"
    }
   },
   "source": [
    "def evaluate_fn(model, data_loader, criterion, device):\n",
    "    model.eval()\n",
    "    epoch_loss = 0\n",
    "    with torch.no_grad():\n",
    "        for i, batch in enumerate(data_loader):\n",
    "            src = batch[\"de_ids\"].to(device)\n",
    "            trg = batch[\"en_ids\"].to(device)\n",
    "            # src = [src length, batch size]\n",
    "            # trg = [trg length, batch size]\n",
    "            output = model(src, trg, 0)  # turn off teacher forcing\n",
    "            # output = [trg length, batch size, trg vocab size]\n",
    "            output_dim = output.shape[-1]\n",
    "            output = output[1:].view(-1, output_dim)\n",
    "            # output = [(trg length - 1) * batch size, trg vocab size]\n",
    "            trg = trg[1:].view(-1)\n",
    "            # trg = [(trg length - 1) * batch size]\n",
    "            loss = criterion(output, trg)\n",
    "            epoch_loss += loss.item()\n",
    "    return epoch_loss / len(data_loader)"
   ],
   "outputs": [],
   "execution_count": 41
  },
  {
   "cell_type": "markdown",
   "metadata": {},
   "source": [
    "# 模型训练"
   ]
  },
  {
   "cell_type": "code",
   "metadata": {
    "ExecuteTime": {
     "end_time": "2025-04-29T05:28:00.113304Z",
     "start_time": "2025-04-29T05:21:01.292729Z"
    }
   },
   "source": [
    "n_epochs = 1 # 因模型训练对计算资源要求较高，此处只设立了一轮训练。\n",
    "clip = 1.0\n",
    "teacher_forcing_ratio = 0.5\n",
    "\n",
    "best_valid_loss = float(\"inf\")\n",
    "\n",
    "for epoch in tqdm.tqdm(range(n_epochs)):\n",
    "    train_loss = train_fn(\n",
    "        model,\n",
    "        train_data_loader,\n",
    "        optimizer,\n",
    "        criterion,\n",
    "        clip,\n",
    "        teacher_forcing_ratio,\n",
    "        device,\n",
    "    )\n",
    "    valid_loss = evaluate_fn(\n",
    "        model,\n",
    "        valid_data_loader,\n",
    "        criterion,\n",
    "        device,\n",
    "    )\n",
    "    if valid_loss < best_valid_loss:\n",
    "        best_valid_loss = valid_loss\n",
    "        torch.save(model.state_dict(), \"tut1-model.pt\")\n",
    "    print(f\"\\tTrain Loss: {train_loss:7.3f} | Train PPL: {np.exp(train_loss):7.3f}\")\n",
    "    print(f\"\\tValid Loss: {valid_loss:7.3f} | Valid PPL: {np.exp(valid_loss):7.3f}\")"
   ],
   "outputs": [
    {
     "name": "stderr",
     "output_type": "stream",
     "text": [
      "100%|██████████| 1/1 [06:58<00:00, 418.81s/it]"
     ]
    },
    {
     "name": "stdout",
     "output_type": "stream",
     "text": [
      "\tTrain Loss:   8.671 | Train PPL: 5833.675\n",
      "\tValid Loss:   8.669 | Valid PPL: 5821.597\n"
     ]
    },
    {
     "name": "stderr",
     "output_type": "stream",
     "text": [
      "\n"
     ]
    }
   ],
   "execution_count": 43
  },
  {
   "cell_type": "markdown",
   "metadata": {},
   "source": [
    "# 模型验证"
   ]
  },
  {
   "cell_type": "code",
   "metadata": {
    "ExecuteTime": {
     "end_time": "2025-04-29T05:28:11.062406Z",
     "start_time": "2025-04-29T05:28:11.021230Z"
    }
   },
   "source": [
    "model.load_state_dict(torch.load(\"tut1-model.pt\"))"
   ],
   "outputs": [
    {
     "data": {
      "text/plain": [
       "<All keys matched successfully>"
      ]
     },
     "execution_count": 46,
     "metadata": {},
     "output_type": "execute_result"
    }
   ],
   "execution_count": 46
  },
  {
   "cell_type": "code",
   "metadata": {
    "ExecuteTime": {
     "end_time": "2025-04-29T05:28:12.561066Z",
     "start_time": "2025-04-29T05:28:12.545858Z"
    }
   },
   "source": [
    "def translate_sentence(\n",
    "    sentence,\n",
    "    model,\n",
    "    en_nlp,\n",
    "    de_nlp,\n",
    "    en_vocab,\n",
    "    de_vocab,\n",
    "    lower,\n",
    "    sos_token,\n",
    "    eos_token,\n",
    "    device,\n",
    "    max_output_length=25,\n",
    "):\n",
    "    model.eval()\n",
    "    with torch.no_grad():\n",
    "        if isinstance(sentence, str):\n",
    "            tokens = [token.text for token in de_nlp.tokenizer(sentence)]\n",
    "        else:\n",
    "            tokens = [token for token in sentence]\n",
    "        if lower:\n",
    "            tokens = [token.lower() for token in tokens]\n",
    "        tokens = [sos_token] + tokens + [eos_token]\n",
    "        ids = de_vocab.lookup_indices(tokens)\n",
    "        tensor = torch.LongTensor(ids).unsqueeze(-1).to(device)\n",
    "        hidden, cell = model.encoder(tensor)\n",
    "        inputs = en_vocab.lookup_indices([sos_token])\n",
    "        for _ in range(max_output_length):\n",
    "            inputs_tensor = torch.LongTensor([inputs[-1]]).to(device)\n",
    "            output, hidden, cell = model.decoder(inputs_tensor, hidden, cell)\n",
    "            predicted_token = output.argmax(-1).item()\n",
    "            inputs.append(predicted_token)\n",
    "            if predicted_token == en_vocab[eos_token]:\n",
    "                break\n",
    "        tokens = en_vocab.lookup_tokens(inputs)\n",
    "    return tokens"
   ],
   "outputs": [],
   "execution_count": 47
  },
  {
   "cell_type": "code",
   "metadata": {
    "ExecuteTime": {
     "end_time": "2025-04-29T05:28:15.134566Z",
     "start_time": "2025-04-29T05:28:15.119574Z"
    }
   },
   "source": [
    "sentence = test_data[0][\"de\"]\n",
    "expected_translation = test_data[0][\"en\"]\n",
    "\n",
    "sentence, expected_translation"
   ],
   "outputs": [
    {
     "data": {
      "text/plain": [
       "('Ein Mann mit einem orangefarbenen Hut, der etwas anstarrt.',\n",
       " 'A man in an orange hat starring at something.')"
      ]
     },
     "execution_count": 48,
     "metadata": {},
     "output_type": "execute_result"
    }
   ],
   "execution_count": 48
  },
  {
   "cell_type": "code",
   "metadata": {
    "ExecuteTime": {
     "end_time": "2025-04-29T05:28:18.487260Z",
     "start_time": "2025-04-29T05:28:18.336557Z"
    }
   },
   "source": [
    "translation = translate_sentence(\n",
    "    sentence,\n",
    "    model,\n",
    "    en_nlp,\n",
    "    de_nlp,\n",
    "    en_vocab,\n",
    "    de_vocab,\n",
    "    lower,\n",
    "    sos_token,\n",
    "    eos_token,\n",
    "    device,\n",
    ")"
   ],
   "outputs": [],
   "execution_count": 49
  },
  {
   "cell_type": "markdown",
   "metadata": {},
   "source": [
    "# 22、运行下方单元格，得到测试集第0个索引的翻译\n",
    "因为epoch只进行了一轮，不会有好的效果的翻译。\n",
    "感兴趣的同学可自行增加训练轮数，观察loss和翻译质量的变化。"
   ]
  },
  {
   "cell_type": "code",
   "metadata": {
    "ExecuteTime": {
     "end_time": "2025-04-29T05:28:26.450704Z",
     "start_time": "2025-04-29T05:28:26.444367Z"
    }
   },
   "source": [
    "translation"
   ],
   "outputs": [
    {
     "data": {
      "text/plain": [
       "['<sos>',\n",
       " 'multi',\n",
       " 'flaps',\n",
       " 'midair',\n",
       " 'dustpan',\n",
       " 'dustpan',\n",
       " 'dustpan',\n",
       " 'hairdo',\n",
       " 'hair',\n",
       " 'hair',\n",
       " 'hairdo',\n",
       " 'slender',\n",
       " 'slender',\n",
       " 'package',\n",
       " 'helps',\n",
       " 'helps',\n",
       " 'finishing',\n",
       " 'finishing',\n",
       " 'newly',\n",
       " 'newly',\n",
       " 'rican',\n",
       " 'rican',\n",
       " 'rican',\n",
       " 'perched',\n",
       " 'observe',\n",
       " 'observe']"
      ]
     },
     "execution_count": 50,
     "metadata": {},
     "output_type": "execute_result"
    }
   ],
   "execution_count": 50
  }
 ],
 "metadata": {
  "kernelspec": {
   "display_name": "Python 3 (ipykernel)",
   "language": "python",
   "name": "python3"
  },
  "language_info": {
   "codemirror_mode": {
    "name": "ipython",
    "version": 3
   },
   "file_extension": ".py",
   "mimetype": "text/x-python",
   "name": "python",
   "nbconvert_exporter": "python",
   "pygments_lexer": "ipython3",
   "version": "3.9.21"
  }
 },
 "nbformat": 4,
 "nbformat_minor": 4
}
