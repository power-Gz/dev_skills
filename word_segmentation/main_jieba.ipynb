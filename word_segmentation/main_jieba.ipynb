{
 "cells": [
  {
   "cell_type": "markdown",
   "id": "5870500a-91d3-44c0-a9d8-19bc47bcdbe8",
   "metadata": {},
   "source": [
    "# 结巴分词实践"
   ]
  },
  {
   "cell_type": "markdown",
   "id": "8fc35ff4-41e7-46bc-9f4b-965100e0ca6b",
   "metadata": {},
   "source": [
    "## 结巴分词的三种模式"
   ]
  },
  {
   "cell_type": "code",
   "execution_count": 4,
   "id": "ee402493-d048-42bc-a9ef-d7a5f105b75d",
   "metadata": {},
   "outputs": [],
   "source": [
    "import jieba"
   ]
  },
  {
   "cell_type": "markdown",
   "id": "57c2e592-bda2-42d7-8a7b-58278e5377aa",
   "metadata": {},
   "source": [
    "### 精确模式"
   ]
  },
  {
   "cell_type": "code",
   "execution_count": 5,
   "id": "776fc572-2017-4a57-83a6-86a3ea08d9a5",
   "metadata": {},
   "outputs": [
    {
     "name": "stdout",
     "output_type": "stream",
     "text": [
      "精确模式: 我/来到/北京/清华大学\n"
     ]
    }
   ],
   "source": [
    "text1 = \"我来到北京清华大学\"\n",
    "seg_list = jieba.cut(text1, cut_all=False)\n",
    "print(\"精确模式: \" + \"/\".join(seg_list))"
   ]
  },
  {
   "cell_type": "markdown",
   "id": "40f647aa-7298-43af-8526-70ee2ee3cb8d",
   "metadata": {},
   "source": [
    "### 全模式"
   ]
  },
  {
   "cell_type": "code",
   "execution_count": 6,
   "id": "13f0a605-c9ac-4554-b3ed-a4c47ae2bcf7",
   "metadata": {},
   "outputs": [
    {
     "name": "stdout",
     "output_type": "stream",
     "text": [
      "全模式: 我/来到/北京/清华/清华大学/华大/大学\n"
     ]
    }
   ],
   "source": [
    "seg_list = jieba.cut(text1, cut_all=True)\n",
    "print(\"全模式: \" + \"/\".join(seg_list))"
   ]
  },
  {
   "cell_type": "markdown",
   "id": "4625b552-ce64-4a5a-923a-f3bf2ad967dd",
   "metadata": {},
   "source": [
    "### 搜索引擎模式"
   ]
  },
  {
   "cell_type": "code",
   "execution_count": 13,
   "id": "33fa149c-d804-46e1-9970-f4b65aee57b1",
   "metadata": {},
   "outputs": [
    {
     "name": "stdout",
     "output_type": "stream",
     "text": [
      "搜索引擎模式: 小明,硕士,毕业,于,中国,科学,学院,科学院,中国科学院,计算,计算所,，,后,在,日本,京都,大学,日本京都大学,深造\n"
     ]
    }
   ],
   "source": [
    "text2 = \"小明硕士毕业于中国科学院计算所，后在日本京都大学深造\"\n",
    "seg_list = jieba.cut_for_search(text2)\n",
    "print(\"搜索引擎模式: \" + \",\".join(seg_list))"
   ]
  },
  {
   "cell_type": "code",
   "execution_count": 14,
   "id": "62244bd9-6a0f-4e85-83bd-5d12b0e1bf32",
   "metadata": {},
   "outputs": [],
   "source": [
    "with open(\"userdict.txt\", \"w\", encoding=\"utf-8\") as f:\n",
    "    f.write(\"古中权\\n\")"
   ]
  },
  {
   "cell_type": "markdown",
   "id": "82b29516-d4f5-4c15-ba4f-6a3ce94e4862",
   "metadata": {},
   "source": [
    "## 载入词典"
   ]
  },
  {
   "cell_type": "code",
   "execution_count": 16,
   "id": "f4c0ab70-209b-4cd8-815e-f8297c059f56",
   "metadata": {},
   "outputs": [
    {
     "name": "stdout",
     "output_type": "stream",
     "text": [
      "Default Mode: 古中权/即将/是/自然语言/处理/方面/的/高手\n"
     ]
    }
   ],
   "source": [
    "jieba.load_userdict(\"userdict.txt\")\n",
    "seg_list = jieba.cut(\"古中权即将是自然语言处理方面的高手\", cut_all=False, HMM=False)\n",
    "print(\"Default Mode: \"+\"/\".join(seg_list))"
   ]
  },
  {
   "cell_type": "code",
   "execution_count": 18,
   "id": "284a2c8d-2fb4-4efa-b415-e6e3b26244cf",
   "metadata": {},
   "outputs": [
    {
     "name": "stdout",
     "output_type": "stream",
     "text": [
      "Top-5 关键词: ['重点', '大学', '国家', '河北省', '共建']\n"
     ]
    }
   ],
   "source": [
    "import jieba.analyse\n",
    "text = \"燕山大学是河北省人民政府、教育部、工业和信息化部、国家国防科技工业局四方共建的全国重点大学，河北省重点支持的国家一流大学和世界一流学科建设高校，北京高科大学联盟成员。\"\n",
    "\n",
    "keywords = jieba.analyse.textrank(\n",
    "    text, \n",
    "    topK=5,      \n",
    "    withWeight=False, \n",
    "    allowPOS=('ns', 'n', 'vn', 'v')  # 允许的词性：地名、名词、动名词、动词（默认不限制）\n",
    ")\n",
    "\n",
    "print(\"Top-5 关键词:\", keywords)"
   ]
  },
  {
   "cell_type": "code",
   "execution_count": null,
   "id": "1602c2c3-2b9c-4979-a6e2-f83699f0b35b",
   "metadata": {},
   "outputs": [],
   "source": []
  }
 ],
 "metadata": {
  "kernelspec": {
   "display_name": "Python 3 (ipykernel)",
   "language": "python",
   "name": "python3"
  },
  "language_info": {
   "codemirror_mode": {
    "name": "ipython",
    "version": 3
   },
   "file_extension": ".py",
   "mimetype": "text/x-python",
   "name": "python",
   "nbconvert_exporter": "python",
   "pygments_lexer": "ipython3",
   "version": "3.9.21"
  }
 },
 "nbformat": 4,
 "nbformat_minor": 5
}
